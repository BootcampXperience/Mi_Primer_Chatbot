{
  "nbformat": 4,
  "nbformat_minor": 0,
  "metadata": {
    "colab": {
      "provenance": [],
      "collapsed_sections": [
        "9A2oSLDivrbN",
        "kDRIGcy62JuE",
        "qQEIdACV2IE4",
        "IVJ6UmQV3n4T",
        "LMEwexpz4gdI",
        "_MzvwGoPf7N8"
      ]
    },
    "kernelspec": {
      "name": "python3",
      "display_name": "Python 3"
    },
    "language_info": {
      "name": "python"
    }
  },
  "cells": [
    {
      "cell_type": "markdown",
      "source": [
        "# 1. Configurar ambiente"
      ],
      "metadata": {
        "id": "9A2oSLDivrbN"
      }
    },
    {
      "cell_type": "code",
      "execution_count": null,
      "metadata": {
        "id": "UD0OObFGtZVJ"
      },
      "outputs": [],
      "source": [
        "import pandas as pd\n",
        "import re\n",
        "import os\n",
        "from sklearn.feature_extraction.text import TfidfVectorizer\n",
        "from sklearn.metrics.pairwise import cosine_similarity\n",
        "!pip install jellyfish\n",
        "import jellyfish"
      ]
    },
    {
      "cell_type": "markdown",
      "source": [
        "#2. Tratamiento de datos"
      ],
      "metadata": {
        "id": "kDRIGcy62JuE"
      }
    },
    {
      "cell_type": "code",
      "source": [
        "def tratamiento_texto(texto):\n",
        "  trans = str.maketrans('áéíóú','aeiou')\n",
        "  texto = texto.lower()\n",
        "  #print('lower: ',texto)\n",
        "  texto = texto.translate(trans)\n",
        "  #print('acentuación: ',texto)\n",
        "  texto = re.sub(r\"[^\\w\\s]\", '', texto)\n",
        "  #print('símbolos: ',texto)\n",
        "  texto = \" \".join(texto.split())\n",
        "  return texto"
      ],
      "metadata": {
        "id": "N-__6F0I2MjG"
      },
      "execution_count": null,
      "outputs": []
    },
    {
      "cell_type": "markdown",
      "source": [
        "# 3. Cargar bases de conocimiento"
      ],
      "metadata": {
        "id": "qQEIdACV2IE4"
      }
    },
    {
      "cell_type": "code",
      "source": [
        "#Importando bases de dialogo fluído\n",
        "txt_folder_path = '/content'\n",
        "lista_documentos=[x for x in os.listdir(txt_folder_path) if x.endswith(\".txt\")]\n",
        "lista_dialogos, lista_dialogos_respuesta, lista_tipo_dialogo = [],[],[]\n",
        "for idx in range(len(lista_documentos)):\n",
        "  f=open(txt_folder_path+'/'+lista_documentos[idx], 'r', encoding='utf-8', errors='ignore')\n",
        "  flag,posicion = True,0\n",
        "  for line in f.read().split('\\n'):\n",
        "    if flag:\n",
        "      line = tratamiento_texto(line)\n",
        "      lista_dialogos.append(line)\n",
        "      lista_tipo_dialogo.append(lista_documentos[idx][:2])\n",
        "    else:\n",
        "      lista_dialogos_respuesta.append(line)\n",
        "      posicion+=1\n",
        "    flag=not flag\n",
        "\n",
        "#Creando Dataframe de diálogos\n",
        "datos = {'dialogo':lista_dialogos,'respuesta':lista_dialogos_respuesta,'tipo':lista_tipo_dialogo,'interseccion':0,'similarity':0,'jaro_winkler':0,'probabilidad':0}\n",
        "df_dialogo = pd.DataFrame(datos)\n",
        "df_dialogo = df_dialogo.drop_duplicates(keep='first')\n",
        "df_dialogo.reset_index(drop=True, inplace=True)"
      ],
      "metadata": {
        "id": "8DDVG_F22IvU"
      },
      "execution_count": null,
      "outputs": []
    },
    {
      "cell_type": "markdown",
      "source": [
        "# 4. Buscar respuesta del Chatbot"
      ],
      "metadata": {
        "id": "IVJ6UmQV3n4T"
      }
    },
    {
      "cell_type": "code",
      "source": [
        "vectorizer = TfidfVectorizer()\n",
        "dialogos_numero = vectorizer.fit_transform(df_dialogo['dialogo'])\n",
        "\n",
        "#Función para verificar si el usuário inició un diálogo\n",
        "def dialogo(user_response):\n",
        "  df = df_dialogo.copy()\n",
        "  respuesta_numero = vectorizer.transform([user_response])\n",
        "  for idx,row in df.iterrows():\n",
        "    df.at[idx,'interseccion'] = len(set(user_response.split()) & set(row['dialogo'].split()))/len(user_response.split())\n",
        "    df.at[idx,'similarity'] = cosine_similarity(dialogos_numero[idx], respuesta_numero)[0][0]\n",
        "    df.at[idx,'jaro_winkler'] = jellyfish.jaro_winkler(user_response,row['dialogo'])\n",
        "    df.at[idx,'probabilidad'] = max(df.at[idx,'interseccion'],df.at[idx,'similarity'],df.at[idx,'jaro_winkler'])\n",
        "  df.sort_values(by=['probabilidad','jaro_winkler'], inplace=True, ascending=False)\n",
        "  return df.head(5)"
      ],
      "metadata": {
        "id": "Bpxajyck3pav"
      },
      "execution_count": null,
      "outputs": []
    },
    {
      "cell_type": "markdown",
      "source": [
        "# 5. Ejecutar Chatbot"
      ],
      "metadata": {
        "id": "LMEwexpz4gdI"
      }
    },
    {
      "cell_type": "code",
      "source": [
        "pregunta='sabes hacer que?'\n",
        "user_response = tratamiento_texto(pregunta)\n",
        "print(user_response)\n",
        "respuesta = dialogo(user_response)\n",
        "respuesta\n",
        "#print(respuesta['respuesta'].head(1).values[0])"
      ],
      "metadata": {
        "colab": {
          "base_uri": "https://localhost:8080/",
          "height": 320
        },
        "id": "X_wq8HMP4hmU",
        "outputId": "b35acbc9-4ac2-42d1-8579-e1d8b88293c6"
      },
      "execution_count": null,
      "outputs": [
        {
          "output_type": "stream",
          "name": "stdout",
          "text": [
            "sabes hacer que\n"
          ]
        },
        {
          "output_type": "execute_result",
          "data": {
            "text/plain": [
              "                                   dialogo  \\\n",
              "148                        que sabes hacer   \n",
              "145  puedes hacer mas de una cosa a la vez   \n",
              "168          buenas tardes como has estado   \n",
              "138                 puedes hacer magia bro   \n",
              "169          buenas noches como has estado   \n",
              "\n",
              "                                             respuesta tipo  interseccion  \\\n",
              "148  Puedo responder muchas preguntas, sé todo sobr...   ID      1.000000   \n",
              "145  Claro, estoy diseñado para manejar múltiples t...   ID      0.333333   \n",
              "168                    He estado bien, gracias. ¿Y tú?   SA      0.000000   \n",
              "138  Jajaja, no exactamente. Pero puedo hacer mucha...   ID      0.333333   \n",
              "169                    He estado bien, gracias. ¿Y tú?   SA      0.000000   \n",
              "\n",
              "     similarity  jaro_winkler  probabilidad  \n",
              "148    1.000000      0.757265      1.000000  \n",
              "145    0.203335      0.688057      0.688057  \n",
              "168    0.000000      0.686316      0.686316  \n",
              "138    0.265465      0.683838      0.683838  \n",
              "169    0.000000      0.669083      0.669083  "
            ],
            "text/html": [
              "\n",
              "  <div id=\"df-9a1d49cb-d037-4329-b547-fb87ed26c9df\">\n",
              "    <div class=\"colab-df-container\">\n",
              "      <div>\n",
              "<style scoped>\n",
              "    .dataframe tbody tr th:only-of-type {\n",
              "        vertical-align: middle;\n",
              "    }\n",
              "\n",
              "    .dataframe tbody tr th {\n",
              "        vertical-align: top;\n",
              "    }\n",
              "\n",
              "    .dataframe thead th {\n",
              "        text-align: right;\n",
              "    }\n",
              "</style>\n",
              "<table border=\"1\" class=\"dataframe\">\n",
              "  <thead>\n",
              "    <tr style=\"text-align: right;\">\n",
              "      <th></th>\n",
              "      <th>dialogo</th>\n",
              "      <th>respuesta</th>\n",
              "      <th>tipo</th>\n",
              "      <th>interseccion</th>\n",
              "      <th>similarity</th>\n",
              "      <th>jaro_winkler</th>\n",
              "      <th>probabilidad</th>\n",
              "    </tr>\n",
              "  </thead>\n",
              "  <tbody>\n",
              "    <tr>\n",
              "      <th>148</th>\n",
              "      <td>que sabes hacer</td>\n",
              "      <td>Puedo responder muchas preguntas, sé todo sobr...</td>\n",
              "      <td>ID</td>\n",
              "      <td>1.000000</td>\n",
              "      <td>1.000000</td>\n",
              "      <td>0.757265</td>\n",
              "      <td>1.000000</td>\n",
              "    </tr>\n",
              "    <tr>\n",
              "      <th>145</th>\n",
              "      <td>puedes hacer mas de una cosa a la vez</td>\n",
              "      <td>Claro, estoy diseñado para manejar múltiples t...</td>\n",
              "      <td>ID</td>\n",
              "      <td>0.333333</td>\n",
              "      <td>0.203335</td>\n",
              "      <td>0.688057</td>\n",
              "      <td>0.688057</td>\n",
              "    </tr>\n",
              "    <tr>\n",
              "      <th>168</th>\n",
              "      <td>buenas tardes como has estado</td>\n",
              "      <td>He estado bien, gracias. ¿Y tú?</td>\n",
              "      <td>SA</td>\n",
              "      <td>0.000000</td>\n",
              "      <td>0.000000</td>\n",
              "      <td>0.686316</td>\n",
              "      <td>0.686316</td>\n",
              "    </tr>\n",
              "    <tr>\n",
              "      <th>138</th>\n",
              "      <td>puedes hacer magia bro</td>\n",
              "      <td>Jajaja, no exactamente. Pero puedo hacer mucha...</td>\n",
              "      <td>ID</td>\n",
              "      <td>0.333333</td>\n",
              "      <td>0.265465</td>\n",
              "      <td>0.683838</td>\n",
              "      <td>0.683838</td>\n",
              "    </tr>\n",
              "    <tr>\n",
              "      <th>169</th>\n",
              "      <td>buenas noches como has estado</td>\n",
              "      <td>He estado bien, gracias. ¿Y tú?</td>\n",
              "      <td>SA</td>\n",
              "      <td>0.000000</td>\n",
              "      <td>0.000000</td>\n",
              "      <td>0.669083</td>\n",
              "      <td>0.669083</td>\n",
              "    </tr>\n",
              "  </tbody>\n",
              "</table>\n",
              "</div>\n",
              "      <button class=\"colab-df-convert\" onclick=\"convertToInteractive('df-9a1d49cb-d037-4329-b547-fb87ed26c9df')\"\n",
              "              title=\"Convert this dataframe to an interactive table.\"\n",
              "              style=\"display:none;\">\n",
              "        \n",
              "  <svg xmlns=\"http://www.w3.org/2000/svg\" height=\"24px\"viewBox=\"0 0 24 24\"\n",
              "       width=\"24px\">\n",
              "    <path d=\"M0 0h24v24H0V0z\" fill=\"none\"/>\n",
              "    <path d=\"M18.56 5.44l.94 2.06.94-2.06 2.06-.94-2.06-.94-.94-2.06-.94 2.06-2.06.94zm-11 1L8.5 8.5l.94-2.06 2.06-.94-2.06-.94L8.5 2.5l-.94 2.06-2.06.94zm10 10l.94 2.06.94-2.06 2.06-.94-2.06-.94-.94-2.06-.94 2.06-2.06.94z\"/><path d=\"M17.41 7.96l-1.37-1.37c-.4-.4-.92-.59-1.43-.59-.52 0-1.04.2-1.43.59L10.3 9.45l-7.72 7.72c-.78.78-.78 2.05 0 2.83L4 21.41c.39.39.9.59 1.41.59.51 0 1.02-.2 1.41-.59l7.78-7.78 2.81-2.81c.8-.78.8-2.07 0-2.86zM5.41 20L4 18.59l7.72-7.72 1.47 1.35L5.41 20z\"/>\n",
              "  </svg>\n",
              "      </button>\n",
              "      \n",
              "  <style>\n",
              "    .colab-df-container {\n",
              "      display:flex;\n",
              "      flex-wrap:wrap;\n",
              "      gap: 12px;\n",
              "    }\n",
              "\n",
              "    .colab-df-convert {\n",
              "      background-color: #E8F0FE;\n",
              "      border: none;\n",
              "      border-radius: 50%;\n",
              "      cursor: pointer;\n",
              "      display: none;\n",
              "      fill: #1967D2;\n",
              "      height: 32px;\n",
              "      padding: 0 0 0 0;\n",
              "      width: 32px;\n",
              "    }\n",
              "\n",
              "    .colab-df-convert:hover {\n",
              "      background-color: #E2EBFA;\n",
              "      box-shadow: 0px 1px 2px rgba(60, 64, 67, 0.3), 0px 1px 3px 1px rgba(60, 64, 67, 0.15);\n",
              "      fill: #174EA6;\n",
              "    }\n",
              "\n",
              "    [theme=dark] .colab-df-convert {\n",
              "      background-color: #3B4455;\n",
              "      fill: #D2E3FC;\n",
              "    }\n",
              "\n",
              "    [theme=dark] .colab-df-convert:hover {\n",
              "      background-color: #434B5C;\n",
              "      box-shadow: 0px 1px 3px 1px rgba(0, 0, 0, 0.15);\n",
              "      filter: drop-shadow(0px 1px 2px rgba(0, 0, 0, 0.3));\n",
              "      fill: #FFFFFF;\n",
              "    }\n",
              "  </style>\n",
              "\n",
              "      <script>\n",
              "        const buttonEl =\n",
              "          document.querySelector('#df-9a1d49cb-d037-4329-b547-fb87ed26c9df button.colab-df-convert');\n",
              "        buttonEl.style.display =\n",
              "          google.colab.kernel.accessAllowed ? 'block' : 'none';\n",
              "\n",
              "        async function convertToInteractive(key) {\n",
              "          const element = document.querySelector('#df-9a1d49cb-d037-4329-b547-fb87ed26c9df');\n",
              "          const dataTable =\n",
              "            await google.colab.kernel.invokeFunction('convertToInteractive',\n",
              "                                                     [key], {});\n",
              "          if (!dataTable) return;\n",
              "\n",
              "          const docLinkHtml = 'Like what you see? Visit the ' +\n",
              "            '<a target=\"_blank\" href=https://colab.research.google.com/notebooks/data_table.ipynb>data table notebook</a>'\n",
              "            + ' to learn more about interactive tables.';\n",
              "          element.innerHTML = '';\n",
              "          dataTable['output_type'] = 'display_data';\n",
              "          await google.colab.output.renderOutput(dataTable, element);\n",
              "          const docLink = document.createElement('div');\n",
              "          docLink.innerHTML = docLinkHtml;\n",
              "          element.appendChild(docLink);\n",
              "        }\n",
              "      </script>\n",
              "    </div>\n",
              "  </div>\n",
              "  "
            ]
          },
          "metadata": {},
          "execution_count": 63
        }
      ]
    },
    {
      "cell_type": "markdown",
      "source": [
        "#6. Validaciones"
      ],
      "metadata": {
        "id": "_MzvwGoPf7N8"
      }
    },
    {
      "cell_type": "code",
      "source": [
        "#Tratamiento de texto\n",
        "texto1 = '¡Hola! ¿Quién eres?'\n",
        "print(tratamiento_texto(texto1))"
      ],
      "metadata": {
        "id": "GIlW7KQqhJq_"
      },
      "execution_count": null,
      "outputs": []
    },
    {
      "cell_type": "code",
      "source": [
        "#Base de dialogos\n",
        "df_dialogo"
      ],
      "metadata": {
        "id": "okZFM5D8h3j6"
      },
      "execution_count": null,
      "outputs": []
    },
    {
      "cell_type": "code",
      "source": [
        "#Intersección\n",
        "texto1 = 'quien eres tu'\n",
        "texto2 = 'hola quien eres'\n",
        "print(len(set(texto1.split()) & set(texto2.split()))/len(texto1.split()))"
      ],
      "metadata": {
        "colab": {
          "base_uri": "https://localhost:8080/"
        },
        "id": "ox8j49Brf9Ax",
        "outputId": "b771d96a-9724-461f-f3c7-53e6768b4876"
      },
      "execution_count": null,
      "outputs": [
        {
          "output_type": "stream",
          "name": "stdout",
          "text": [
            "0.6666666666666666\n"
          ]
        }
      ]
    },
    {
      "cell_type": "code",
      "source": [
        "#Similaridad coseno\n",
        "texto1 = 'quien eres tu'\n",
        "texto2 = 'hola quien eres'\n",
        "texto1 = vectorizer.transform([texto1])\n",
        "texto2 = vectorizer.transform([texto2])\n",
        "#print(texto1)\n",
        "print(cosine_similarity(texto1, texto2)[0][0])"
      ],
      "metadata": {
        "colab": {
          "base_uri": "https://localhost:8080/"
        },
        "id": "gXCd3wF0gWVX",
        "outputId": "8727b2ce-ac3c-4771-9cf8-0e2b2815fc92"
      },
      "execution_count": null,
      "outputs": [
        {
          "output_type": "stream",
          "name": "stdout",
          "text": [
            "0.8106505819075088\n"
          ]
        }
      ]
    },
    {
      "cell_type": "code",
      "source": [
        "#Jaro-Winkler\n",
        "texto1 = 'quien eres tu'\n",
        "texto2 = 'hola quien eres'\n",
        "print(jellyfish.jaro_winkler(texto1,texto2))"
      ],
      "metadata": {
        "colab": {
          "base_uri": "https://localhost:8080/"
        },
        "id": "kdB5jDphkRee",
        "outputId": "3f273cb0-769e-4c56-b780-7496f436b1e1"
      },
      "execution_count": null,
      "outputs": [
        {
          "output_type": "stream",
          "name": "stdout",
          "text": [
            "0.7083139083139084\n"
          ]
        }
      ]
    }
  ]
}